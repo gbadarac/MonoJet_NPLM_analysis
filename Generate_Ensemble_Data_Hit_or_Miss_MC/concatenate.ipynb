{
 "cells": [
  {
   "cell_type": "code",
   "execution_count": 1,
   "metadata": {},
   "outputs": [
    {
     "name": "stdout",
     "output_type": "stream",
     "text": [
      "Concatenated shape: (1000000, 2)\n"
     ]
    }
   ],
   "source": [
    "import os\n",
    "import numpy as np\n",
    "\n",
    "# Directory containing all the generated .npy files\n",
    "folder_path = \"/work/gbadarac/MonoJet_NPLM/MonoJet_NPLM_analysis/Generate_Ensemble_Data_Hit_or_Miss_MC/saved_generated_ensemble_data/N_100000_dim_2_seeds_60_4_16_128_15\"\n",
    "\n",
    "# Collect and concatenate data\n",
    "all_arrays = []\n",
    "for filename in sorted(os.listdir(folder_path)):\n",
    "    if filename.startswith(\"ensemble_generated_samples_4_16_128_15_seed_\") and filename.endswith(\".npy\"):\n",
    "        file_path = os.path.join(folder_path, filename)\n",
    "        data = np.load(file_path)\n",
    "        all_arrays.append(data)\n",
    "\n",
    "# Concatenate all (N, 2) arrays into one big (200000, 2) array\n",
    "all_data = np.concatenate(all_arrays, axis=0)\n",
    "N = all_data.shape[0]\n",
    "output_file = os.path.join(\n",
    "    folder_path,\n",
    "    f\"concatenated_ensemble_generated_samples_4_16_128_15_N_{N}.npy\"\n",
    ")\n",
    "np.save(output_file, all_data)\n",
    "\n",
    "print(\"Concatenated shape:\", all_data.shape)"
   ]
  },
  {
   "cell_type": "code",
   "execution_count": null,
   "metadata": {},
   "outputs": [],
   "source": []
  }
 ],
 "metadata": {
  "kernelspec": {
   "display_name": "nf_env",
   "language": "python",
   "name": "python3"
  },
  "language_info": {
   "codemirror_mode": {
    "name": "ipython",
    "version": 3
   },
   "file_extension": ".py",
   "mimetype": "text/x-python",
   "name": "python",
   "nbconvert_exporter": "python",
   "pygments_lexer": "ipython3",
   "version": "3.10.17"
  },
  "orig_nbformat": 4
 },
 "nbformat": 4,
 "nbformat_minor": 2
}
