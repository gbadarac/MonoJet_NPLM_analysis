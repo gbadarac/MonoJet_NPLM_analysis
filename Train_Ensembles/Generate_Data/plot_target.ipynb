{
 "cells": [
  {
   "cell_type": "code",
   "execution_count": 1,
   "id": "90711b99",
   "metadata": {},
   "outputs": [],
   "source": [
    "import numpy as np\n",
    "from sklearn.preprocessing import StandardScaler\n",
    "import os\n",
    "import numpy as np\n",
    "import matplotlib.pyplot as plt\n",
    "from scipy.stats import norm"
   ]
  },
  {
   "cell_type": "code",
   "execution_count": 2,
   "id": "79c22248",
   "metadata": {},
   "outputs": [],
   "source": [
    "# --- Load target data ---\n",
    "training_file = \"/work/gbadarac/MonoJet_NPLM/MonoJet_NPLM_analysis/Train_Ensembles/Generate_Data/saved_generated_target_data/2_dim/100k_target_training_set.npy\"\n",
    "data = np.load(training_file)"
   ]
  },
  {
   "cell_type": "code",
   "execution_count": 3,
   "id": "9b2b4e22",
   "metadata": {},
   "outputs": [],
   "source": [
    "# --- Ground truth parameters ---\n",
    "mu = np.array([-0.5, 0.6])\n",
    "sigma = np.array([0.25, 0.4])"
   ]
  },
  {
   "cell_type": "code",
   "execution_count": 9,
   "id": "8feedf01",
   "metadata": {},
   "outputs": [],
   "source": [
    "# --- Plot marginals ---\n",
    "fig, axes = plt.subplots(1, 2, figsize=(12, 4), sharey=True)\n",
    "\n",
    "# Common font sizes\n",
    "label_fs = 16   # axis labels\n",
    "tick_fs = 14    # tick labels\n",
    "legend_fs = 12\n",
    "title_fs = 18\n",
    "\n",
    "# Feature 1\n",
    "ax = axes[0]\n",
    "ax.hist(\n",
    "    data[:, 0], bins=80, density=True,\n",
    "    alpha=0.6, color=\"skyblue\", edgecolor=\"black\",\n",
    "    label=\"Generated sample\"\n",
    ")\n",
    "x_vals = np.linspace(mu[0] - 4 * sigma[0], mu[0] + 4 * sigma[0], 200)\n",
    "ax.plot(x_vals, norm.pdf(x_vals, mu[0], sigma[0]), \"r-\", lw=2, label=\"Ground truth\")\n",
    "ax.set_xlabel(\"Feature 1\", fontsize=label_fs)\n",
    "ax.set_ylabel(\"Density\", fontsize=label_fs)\n",
    "ax.tick_params(axis=\"both\", which=\"major\", labelsize=tick_fs)\n",
    "ax.legend(fontsize=legend_fs)\n",
    "\n",
    "# Feature 2\n",
    "ax = axes[1]\n",
    "ax.hist(\n",
    "    data[:, 1], bins=80, density=True,\n",
    "    alpha=0.6, color=\"lightgreen\", edgecolor=\"black\",\n",
    "    label=\"Generated sample\"\n",
    ")\n",
    "x_vals = np.linspace(mu[1] - 4 * sigma[1], mu[1] + 4 * sigma[1], 200)\n",
    "ax.plot(x_vals, norm.pdf(x_vals, mu[1], sigma[1]), \"r-\", lw=2, label=\"Ground truth\")\n",
    "ax.set_xlabel(\"Feature 2\", fontsize=label_fs)\n",
    "ax.tick_params(axis=\"both\", which=\"major\", labelsize=tick_fs)\n",
    "ax.legend(fontsize=legend_fs)\n",
    "\n",
    "# Title closer to plots\n",
    "fig.suptitle(\"Marginal plots\", fontsize=title_fs, y=0.93)\n",
    "\n",
    "# Layout\n",
    "fig.tight_layout(rect=[0, 0, 1, 0.9])\n",
    "\n",
    "# Save\n",
    "out_path = \"marginal_plots.pdf\"\n",
    "fig.savefig(out_path, bbox_inches=\"tight\")\n",
    "plt.close(fig)\n",
    "\n",
    "# If you also want an on-screen preview locally (not on headless):\n",
    "plt.show()\n"
   ]
  },
  {
   "cell_type": "code",
   "execution_count": null,
   "id": "dccee063",
   "metadata": {},
   "outputs": [],
   "source": []
  }
 ],
 "metadata": {
  "kernelspec": {
   "display_name": "nf_env",
   "language": "python",
   "name": "python3"
  },
  "language_info": {
   "codemirror_mode": {
    "name": "ipython",
    "version": 3
   },
   "file_extension": ".py",
   "mimetype": "text/x-python",
   "name": "python",
   "nbconvert_exporter": "python",
   "pygments_lexer": "ipython3",
   "version": "3.10.17"
  }
 },
 "nbformat": 4,
 "nbformat_minor": 5
}
