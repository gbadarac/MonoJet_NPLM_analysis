{
 "cells": [
  {
   "cell_type": "code",
   "execution_count": 7,
   "id": "2e3d03f9",
   "metadata": {},
   "outputs": [
    {
     "name": "stdout",
     "output_type": "stream",
     "text": [
      "Analytic means: [-0.5        1.5937924]\n",
      "Sample means: [-0.49937305  1.5939858 ]\n"
     ]
    }
   ],
   "source": [
    "import numpy as np\n",
    "import matplotlib.pyplot as plt\n",
    "from scipy.stats import norm, skewnorm\n",
    "\n",
    "# --- Load target data ---\n",
    "training_file = \"/work/gbadarac/MonoJet_NPLM/MonoJet_NPLM_analysis/Train_Ensembles/Generate_Data/saved_generated_target_data/2_dim/100k_2d_gaussian_heavy_tail_target_set.npy\"\n",
    "data = np.load(training_file)\n",
    "\n",
    "# --- Generation params (no scaling) ---\n",
    "# Feature 1: Bi-modal Gaussian mixture\n",
    "wG = 0.50\n",
    "mu_a, sig_a = -0.70, 0.12\n",
    "mu_b, sig_b = -0.30, 0.12\n",
    "\n",
    "# Feature 2: Skew-Normal\n",
    "loc2, scale2, alpha2 = 1.0, 0.75, 8.0\n",
    "\n",
    "# --- Analytic means (sanity check) ---\n",
    "E_x1 = wG * mu_a + (1.0 - wG) * mu_b\n",
    "delta = alpha2 / np.sqrt(1.0 + alpha2**2)\n",
    "E_x2 = loc2 + scale2 * delta * np.sqrt(2.0 / np.pi)\n",
    "print(\"Analytic means:\", np.array([E_x1, E_x2]))\n",
    "print(\"Sample means:\", data.mean(axis=0))\n",
    "\n",
    "# --- Plot marginals (same layout/style) ---\n",
    "fig, axes = plt.subplots(1, 2, figsize=(12, 4), sharey=True)\n",
    "label_fs, tick_fs, legend_fs, title_fs = 16, 14, 12, 18\n",
    "\n",
    "# ===== Feature 1 (Bi-modal Gaussian mixture) =====\n",
    "ax1 = axes[0]\n",
    "ax1.hist(data[:, 0], bins=100, density=True, alpha=0.6, color=\"skyblue\",\n",
    "         edgecolor=\"black\", label=\"Generated sample\")\n",
    "\n",
    "x1_grid = np.linspace(min(mu_a, mu_b) - 4*max(sig_a, sig_b),\n",
    "                      max(mu_a, mu_b) + 4*max(sig_a, sig_b),\n",
    "                      500)\n",
    "pdf1 = (wG * norm.pdf(x1_grid, mu_a, sig_a)\n",
    "        + (1.0 - wG) * norm.pdf(x1_grid, mu_b, sig_b))\n",
    "ax1.plot(x1_grid, pdf1, \"r-\", lw=2, label=\"Ground truth\")\n",
    "\n",
    "ax1.set_xlabel(\"Feature 1\", fontsize=label_fs)\n",
    "ax1.set_ylabel(\"Density\", fontsize=label_fs)\n",
    "ax1.tick_params(axis=\"both\", which=\"major\", labelsize=tick_fs)\n",
    "ax1.legend(fontsize=legend_fs)\n",
    "\n",
    "# ===== Feature 2 (Skew-Normal) =====\n",
    "ax2 = axes[1]\n",
    "ax2.hist(data[:, 1], bins=100, density=True, alpha=0.6, color=\"lightgreen\",\n",
    "         edgecolor=\"black\", label=\"Generated sample\")\n",
    "\n",
    "# Focus on central mass for readability\n",
    "lo, hi = np.quantile(data[:, 1], [0.001, 0.999])\n",
    "x2_grid = np.linspace(lo, hi, 800)\n",
    "\n",
    "pdf2 = skewnorm.pdf(x2_grid, a=alpha2, loc=loc2, scale=scale2)\n",
    "ax2.plot(x2_grid, pdf2, \"r-\", lw=2, label=\"Ground truth\")\n",
    "ax2.set_xlim(lo, hi)\n",
    "\n",
    "ax2.set_xlabel(\"Feature 2\", fontsize=label_fs)\n",
    "ax2.tick_params(axis=\"both\", which=\"major\", labelsize=tick_fs)\n",
    "ax2.legend(fontsize=legend_fs)\n",
    "\n",
    "fig.suptitle(\"Marginal plots (Bi-modal Gaussian + Skew-Normal)\", fontsize=title_fs, y=0.93)\n",
    "fig.tight_layout(rect=[0, 0, 1, 0.9])\n",
    "fig.savefig(\"marginal_plots_bimodal_gaussian_skewnormal_heavy_tail.pdf\", bbox_inches=\"tight\")\n",
    "plt.close(fig)\n",
    "\n"
   ]
  },
  {
   "cell_type": "code",
   "execution_count": null,
   "id": "7147b950",
   "metadata": {},
   "outputs": [],
   "source": []
  }
 ],
 "metadata": {
  "kernelspec": {
   "display_name": "nf_env",
   "language": "python",
   "name": "python3"
  },
  "language_info": {
   "codemirror_mode": {
    "name": "ipython",
    "version": 3
   },
   "file_extension": ".py",
   "mimetype": "text/x-python",
   "name": "python",
   "nbconvert_exporter": "python",
   "pygments_lexer": "ipython3",
   "version": "3.10.17"
  }
 },
 "nbformat": 4,
 "nbformat_minor": 5
}
