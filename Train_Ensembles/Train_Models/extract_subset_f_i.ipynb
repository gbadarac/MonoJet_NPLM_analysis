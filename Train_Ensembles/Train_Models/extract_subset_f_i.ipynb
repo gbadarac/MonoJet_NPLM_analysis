{
 "cells": [
  {
   "cell_type": "code",
   "execution_count": null,
   "id": "b1611da0",
   "metadata": {},
   "outputs": [],
   "source": [
    "import torch\n",
    "import os\n",
    "import shutil\n",
    "\n",
    "# === Inputs\n",
    "n = 60\n",
    "base_dir = \"/work/gbadarac/MonoJet_NPLM/MonoJet_NPLM_analysis/Train_Ensembles/Train_Models/nflows/EstimationNFnflows_outputs\"\n",
    "original_subdir = \"N_100000_seeds_100_4_16_512_15\"\n",
    "new_subdir = f\"N_100000_seeds_{n}_4_16_512_15\"\n",
    "\n",
    "original_dir = os.path.join(base_dir, original_subdir)\n",
    "new_dir = os.path.join(base_dir, new_subdir)\n",
    "\n",
    "# === Load and subset f_i\n",
    "f_i_path = os.path.join(original_dir, \"f_i.pth\")\n",
    "f_i_all = torch.load(f_i_path, map_location=\"cpu\")\n",
    "f_i_subset = f_i_all[:n]\n",
    "\n",
    "# === Create new output directory\n",
    "os.makedirs(new_dir, exist_ok=True)\n",
    "\n",
    "# === Save subset\n",
    "torch.save(f_i_subset, os.path.join(new_dir, \"f_i.pth\"))\n",
    "\n",
    "# === Copy architecture_config.json\n",
    "arch_config_path = os.path.join(original_dir, \"architecture_config.json\")\n",
    "if os.path.exists(arch_config_path):\n",
    "    shutil.copy2(arch_config_path, os.path.join(new_dir, \"architecture_config.json\"))\n",
    "    print(f\"Copied architecture_config.json to:\\n{new_dir}\")\n",
    "else:\n",
    "    print(\"architecture_config.json not found, skipping copy.\")\n",
    "\n",
    "print(f\"Saved first {n} models to:\\n{os.path.join(new_dir, 'f_i.pth')}\")"
   ]
  }
 ],
 "metadata": {
  "language_info": {
   "name": "python"
  }
 },
 "nbformat": 4,
 "nbformat_minor": 5
}
