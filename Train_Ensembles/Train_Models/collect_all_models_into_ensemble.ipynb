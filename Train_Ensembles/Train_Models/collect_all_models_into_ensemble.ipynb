{
 "cells": [
  {
   "cell_type": "code",
   "execution_count": null,
   "id": "02e01372",
   "metadata": {},
   "outputs": [
    {
     "name": "stdout",
     "output_type": "stream",
     "text": [
      "Collected all models into f_i.pth\n"
     ]
    }
   ],
   "source": [
    "import os\n",
    "import gc\n",
    "import torch\n",
    "\n",
    "trial_dir = \"/work/gbadarac/MonoJet_NPLM/MonoJet_NPLM_analysis/Train_Ensembles/Train_Models/nflows/EstimationNFnflows_outputs/N_100000_seeds_60_4_16_256_15\"\n",
    "f_i = []\n",
    "device = torch.device(\"cpu\")  # Stay on CPU to avoid memory pressure\n",
    "\n",
    "for i in range(60):\n",
    "    model_path = os.path.join(trial_dir, f\"model_{i:03d}\", \"model.pth\")\n",
    "    if not os.path.exists(model_path):\n",
    "        raise FileNotFoundError(f\"Missing model: {model_path}\")\n",
    "    state_dict = torch.load(model_path, map_location=device)\n",
    "    f_i.append(state_dict)\n",
    "    \n",
    "    del state_dict\n",
    "    gc.collect()\n",
    "\n",
    "torch.save(f_i, os.path.join(trial_dir, \"f_i.pth\"))\n",
    "print(\"Collected all models into f_i.pth\")\n"
   ]
  },
  {
   "cell_type": "code",
   "execution_count": null,
   "id": "2365d4a4",
   "metadata": {},
   "outputs": [
    {
     "name": "stdout",
     "output_type": "stream",
     "text": [
      "Model size: 258.39 MB\n"
     ]
    }
   ],
   "source": [
    "import os\n",
    "\n",
    "model_path = \"/work/gbadarac/MonoJet_NPLM/MonoJet_NPLM_analysis/Train_Ensembles/Train_Models/nflows/EstimationNFnflows_outputs/N_100000_seeds_100_4_16_512_15/model_000/model.pth\"\n",
    "model_size_MB = os.path.getsize(model_path) / 1024 / 1024\n",
    "print(f\"Model size: {model_size_MB:.2f} MB\")\n"
   ]
  },
  {
   "cell_type": "code",
   "execution_count": null,
   "id": "ba8f1006",
   "metadata": {},
   "outputs": [],
   "source": []
  }
 ],
 "metadata": {
  "kernelspec": {
   "display_name": "nf_env",
   "language": "python",
   "name": "python3"
  },
  "language_info": {
   "codemirror_mode": {
    "name": "ipython",
    "version": 3
   },
   "file_extension": ".py",
   "mimetype": "text/x-python",
   "name": "python",
   "nbconvert_exporter": "python",
   "pygments_lexer": "ipython3",
   "version": "3.10.17"
  }
 },
 "nbformat": 4,
 "nbformat_minor": 5
}
