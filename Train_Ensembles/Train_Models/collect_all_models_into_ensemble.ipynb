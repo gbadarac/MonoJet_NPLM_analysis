{
 "cells": [
  {
   "cell_type": "code",
   "execution_count": null,
   "id": "2d772658",
   "metadata": {},
   "outputs": [],
   "source": [
    "import os\n",
    "import gc\n",
    "import torch\n",
    "\n",
    "trial_dir = \"/work/gbadarac/MonoJet_NPLM/MonoJet_NPLM_analysis/Train_Ensembles/Train_Models/nflows/EstimationNFnflows_outputs/N_100000_seeds_60_4_16_256_15\"\n",
    "f_i = []\n",
    "device = torch.device(\"cpu\")  # Stay on CPU to avoid memory pressure\n",
    "\n",
    "for i in range(60):\n",
    "    model_path = os.path.join(trial_dir, f\"model_{i:03d}\", \"model.pth\")\n",
    "    if not os.path.exists(model_path):\n",
    "        raise FileNotFoundError(f\"Missing model: {model_path}\")\n",
    "    state_dict = torch.load(model_path, map_location=device)\n",
    "    f_i.append(state_dict)\n",
    "    \n",
    "    del state_dict\n",
    "    gc.collect()\n",
    "\n",
    "torch.save(f_i, os.path.join(trial_dir, \"f_i.pth\"))\n",
    "print(\"Collected all models into f_i.pth\")\n",
    "\n",
    "model_path = \"/work/gbadarac/MonoJet_NPLM/MonoJet_NPLM_analysis/Train_Ensembles/Train_Models/nflows/EstimationNFnflows_outputs/N_100000_seeds_100_4_16_512_15/model_000/model.pth\"\n",
    "model_size_MB = os.path.getsize(model_path) / 1024 / 1024\n",
    "print(f\"Model size: {model_size_MB:.2f} MB\")"
   ]
  }
 ],
 "metadata": {
  "language_info": {
   "name": "python"
  }
 },
 "nbformat": 4,
 "nbformat_minor": 5
}
