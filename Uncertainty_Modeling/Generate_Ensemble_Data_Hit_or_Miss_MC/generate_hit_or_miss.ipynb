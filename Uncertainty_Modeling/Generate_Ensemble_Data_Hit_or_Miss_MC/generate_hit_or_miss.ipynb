{
 "cells": [
  {
   "cell_type": "code",
   "execution_count": 9,
   "metadata": {},
   "outputs": [
    {
     "name": "stdout",
     "output_type": "stream",
     "text": [
      "Using device: cpu\n"
     ]
    }
   ],
   "source": [
    "import os\n",
    "import json\n",
    "import torch\n",
    "import numpy as np\n",
    "import matplotlib.pyplot as plt\n",
    "\n",
    "import sys\n",
    "sys.path.append(\"/work/gbadarac/MonoJet_NPLM/MonoJet_NPLM_analysis/Uncertainty_Modeling\")\n",
    "\n",
    "from utils import make_flow, ensemble_pred  # must be in your Python path or notebook directory\n",
    "\n",
    "device = torch.device(\"cuda\" if torch.cuda.is_available() else \"cpu\")\n",
    "print(\"Using device:\", device)"
   ]
  },
  {
   "cell_type": "code",
   "execution_count": 10,
   "metadata": {},
   "outputs": [],
   "source": [
    "# Set paths\n",
    "trial_dir = \"/work/gbadarac/MonoJet_NPLM/MonoJet_NPLM_analysis/Uncertainty_Modeling/Fit_Weights/results_no_norm_fit_weights_NF/N_100000_seeds_60_bootstraps_1_4_16_128_15\"\n",
    "data_path = \"/work/gbadarac/MonoJet_NPLM/MonoJet_NPLM_analysis/Uncertainty_Modeling/Generate_Data/saved_generated_target_data/100k_target_training_set.npy\"\n",
    "out_dir = \"/work/gbadarac/MonoJet_NPLM/MonoJet_NPLM_analysis/Uncertainty_Modeling/Generate_Ensemble_Data_Hit_or_Miss_MC/saved_generated_ensemble_data\"\n",
    "os.makedirs(out_dir, exist_ok=True)\n",
    "\n",
    "# Reference architecture (consistent across models)\n",
    "arch_config_path = \"/work/gbadarac/MonoJet_NPLM/MonoJet_NPLM_analysis/Uncertainty_Modeling/Train_Models/EstimationNF_gaussians_outputs/N_100000_seeds_60_bootstraps_1_4_16_128_15/architecture_config.json\""
   ]
  },
  {
   "cell_type": "code",
   "execution_count": 11,
   "metadata": {},
   "outputs": [
    {
     "name": "stdout",
     "output_type": "stream",
     "text": [
      "Data shape: torch.Size([100000, 2])\n",
      "Loaded 60 models\n"
     ]
    }
   ],
   "source": [
    "# Load model weights and configs\n",
    "with open(arch_config_path) as f:\n",
    "    config = json.load(f)\n",
    "\n",
    "f_i_statedicts = torch.load(os.path.join(trial_dir, \"f_i_averaged.pth\"), map_location=device)\n",
    "#w_i_fitted = torch.tensor(np.load(os.path.join(trial_dir, \"w_i_fitted.npy\")), dtype=torch.float64)\n",
    "w_i_fitted = torch.tensor([ 0.0489, -0.0549,  0.0217,  0.0400,  0.0104,  0.0634,  0.0098,  0.0756,\n",
    "         0.0213,  0.0335,  0.0505, -0.0053,  0.0017,  0.0108,  0.0127,  0.0066,\n",
    "         0.0315,  0.0264,  0.0262,  0.1018,  0.0717,  0.0223,  0.0015, -0.0130,\n",
    "         0.0351,  0.0155,  0.0271,  0.0563,  0.0065,  0.0513,  0.0528, -0.0659,\n",
    "         0.0601, -0.0258, -0.0198, -0.0387,  0.0280, -0.0160,  0.0431, -0.0626,\n",
    "         0.0246,  0.0034, -0.0270,  0.0072, -0.0303,  0.0098, -0.0195, -0.0674,\n",
    "         0.0384,  0.0571,  0.0251, -0.0116,  0.0485,  0.0325,  0.0231,  0.0251,\n",
    "         0.0107, -0.0070,  0.0596,  0.0358], dtype=torch.float64)\n",
    "\n",
    "# Load data\n",
    "x_data = torch.from_numpy(np.load(data_path)).float().to(device)\n",
    "print(\"Data shape:\", x_data.shape)\n",
    "print(\"Loaded\", len(f_i_statedicts), \"models\")\n"
   ]
  },
  {
   "cell_type": "code",
   "execution_count": 12,
   "metadata": {},
   "outputs": [],
   "source": [
    "f_i_models = []\n",
    "for state_dict in f_i_statedicts:\n",
    "    flow = make_flow(\n",
    "        num_layers=config[\"num_layers\"],\n",
    "        hidden_features=config[\"hidden_features\"],\n",
    "        num_bins=config[\"num_bins\"],\n",
    "        num_blocks=config[\"num_blocks\"],\n",
    "        tail_bound=config[\"tail_bound\"]\n",
    "    ).to(device)\n",
    "    flow.load_state_dict(state_dict)\n",
    "    flow.eval()\n",
    "    f_i_models.append(flow)\n"
   ]
  },
  {
   "cell_type": "code",
   "execution_count": 13,
   "metadata": {},
   "outputs": [],
   "source": [
    "\n",
    "# Define ensemble callable f(x1, x2) using the fitted weights and flow models\n",
    "def f(x1, x2, f_i_models, w_i_fitted):\n",
    "    \"\"\"\n",
    "    Compute ensemble density f(x1, x2) = sum_i w_i * f_i(x1, x2)\n",
    "    Input: x1, x2 of shape (N,) — output: (N,)\n",
    "    \"\"\"\n",
    "    x = torch.stack([x1, x2], dim=1)  # shape (N, 2)\n",
    "    with torch.no_grad():\n",
    "        probs = torch.stack([torch.exp(model.log_prob(x)) for model in f_i_models], dim=1)  # (N, M)\n",
    "        w = w_i_fitted.to(probs.device)\n",
    "        return (probs * w).sum(dim=1)  # shape (N,)"
   ]
  },
  {
   "cell_type": "code",
   "execution_count": 14,
   "metadata": {},
   "outputs": [
    {
     "data": {
      "text/plain": [
       "tensor(1.0002, dtype=torch.float64)"
      ]
     },
     "execution_count": 14,
     "metadata": {},
     "output_type": "execute_result"
    }
   ],
   "source": [
    "torch.sum(w_i_fitted)"
   ]
  },
  {
   "cell_type": "code",
   "execution_count": 18,
   "metadata": {},
   "outputs": [
    {
     "name": "stdout",
     "output_type": "stream",
     "text": [
      "f_max 2\n",
      "hits torch.Size([334, 2])\n",
      "len(accepted) 1\n",
      "hits torch.Size([284, 2])\n",
      "len(accepted) 2\n",
      "hits torch.Size([365, 2])\n",
      "len(accepted) 3\n",
      "hits torch.Size([311, 2])\n",
      "len(accepted) 4\n",
      "hits torch.Size([368, 2])\n",
      "len(accepted) 5\n",
      "hits torch.Size([300, 2])\n",
      "len(accepted) 6\n",
      "hits torch.Size([311, 2])\n",
      "len(accepted) 7\n",
      "hits torch.Size([361, 2])\n",
      "len(accepted) 8\n",
      "hits torch.Size([307, 2])\n",
      "len(accepted) 9\n",
      "hits torch.Size([344, 2])\n",
      "len(accepted) 10\n",
      "hits torch.Size([340, 2])\n",
      "len(accepted) 11\n",
      "hits torch.Size([291, 2])\n",
      "len(accepted) 12\n",
      "hits torch.Size([287, 2])\n",
      "len(accepted) 13\n",
      "hits torch.Size([311, 2])\n",
      "len(accepted) 14\n",
      "hits torch.Size([338, 2])\n",
      "len(accepted) 15\n",
      "hits torch.Size([328, 2])\n",
      "len(accepted) 16\n",
      "hits torch.Size([312, 2])\n",
      "len(accepted) 17\n",
      "hits torch.Size([350, 2])\n",
      "len(accepted) 18\n",
      "hits torch.Size([327, 2])\n",
      "len(accepted) 19\n",
      "hits torch.Size([318, 2])\n",
      "len(accepted) 20\n",
      "hits torch.Size([317, 2])\n",
      "len(accepted) 21\n",
      "hits torch.Size([345, 2])\n",
      "len(accepted) 22\n",
      "hits torch.Size([317, 2])\n",
      "len(accepted) 23\n",
      "hits torch.Size([328, 2])\n",
      "len(accepted) 24\n",
      "hits torch.Size([315, 2])\n",
      "len(accepted) 25\n",
      "hits torch.Size([323, 2])\n",
      "len(accepted) 26\n",
      "hits torch.Size([313, 2])\n",
      "len(accepted) 27\n",
      "hits torch.Size([329, 2])\n",
      "len(accepted) 28\n",
      "hits torch.Size([317, 2])\n",
      "len(accepted) 29\n",
      "hits torch.Size([328, 2])\n",
      "len(accepted) 30\n",
      "hits torch.Size([307, 2])\n",
      "len(accepted) 31\n",
      "hits torch.Size([360, 2])\n",
      "len(accepted) 32\n",
      "hits torch.Size([320, 2])\n",
      "len(accepted) 33\n",
      "hits torch.Size([321, 2])\n",
      "len(accepted) 34\n",
      "hits torch.Size([333, 2])\n",
      "len(accepted) 35\n",
      "hits torch.Size([311, 2])\n",
      "len(accepted) 36\n",
      "hits torch.Size([320, 2])\n",
      "len(accepted) 37\n",
      "hits torch.Size([332, 2])\n",
      "len(accepted) 38\n",
      "hits torch.Size([345, 2])\n",
      "len(accepted) 39\n",
      "hits torch.Size([342, 2])\n",
      "len(accepted) 40\n",
      "hits torch.Size([339, 2])\n",
      "len(accepted) 41\n",
      "hits torch.Size([345, 2])\n",
      "len(accepted) 42\n",
      "hits torch.Size([307, 2])\n",
      "len(accepted) 43\n",
      "hits torch.Size([324, 2])\n",
      "len(accepted) 44\n",
      "hits torch.Size([313, 2])\n",
      "len(accepted) 45\n",
      "hits torch.Size([302, 2])\n",
      "len(accepted) 46\n",
      "hits torch.Size([304, 2])\n",
      "len(accepted) 47\n",
      "hits torch.Size([335, 2])\n",
      "len(accepted) 48\n",
      "hits torch.Size([326, 2])\n",
      "len(accepted) 49\n",
      "hits torch.Size([345, 2])\n",
      "len(accepted) 50\n",
      "sampl size torch.Size([16250, 2])\n",
      "Saved generated samples.\n"
     ]
    }
   ],
   "source": [
    "\n",
    "def hit_or_miss_2d(x1_min, x1_max, x2_min, x2_max, f_i_models, w_i_fitted, N_events, max_attempts=1000000000):\n",
    "    \"\"\"\n",
    "    Monte Carlo sampling via hit-or-miss in 2D using PyTorch.\n",
    "\n",
    "    Args:\n",
    "        x1_min, x1_max: float, bounds for x-axis\n",
    "        x2_min, x2_max: float, bounds for y-axis\n",
    "        f: callable, probability density function f(x1, x2) -> torch.tensor (same shape as x1/x2)\n",
    "        N_events: int, number of samples to generate\n",
    "        max_attempts: int, maximum number of sampling attempts (to avoid infinite loop)\n",
    "\n",
    "    Returns:\n",
    "        samples: torch.Tensor of shape (N_events, 2), the accepted (x1, x2) points\n",
    "    \"\"\"\n",
    "\n",
    "    device = torch.device(\"cuda\" if torch.cuda.is_available() else \"cpu\")\n",
    "\n",
    "    # Estimate f_max by grid sampling\n",
    "    '''\n",
    "    x1_grid = torch.linspace(x1_min, x1_max, 400, device=device)\n",
    "    x2_grid = torch.linspace(x2_min, x2_max, 400, device=device)\n",
    "    X1, X2 = torch.meshgrid(x1_grid, x2_grid, indexing='ij')\n",
    "    '''\n",
    "    with torch.no_grad():\n",
    "        #f_vals = f(X1.flatten(), X2.flatten(), f_i_models, w_i_fitted)\n",
    "        #f_max = f_vals.max().item() * 1.1  # Safety factor\n",
    "        f_max=2\n",
    "        print('f_max', f_max)\n",
    "\n",
    "    accepted = []\n",
    "    total_attempts = 0\n",
    "    batch_size = int(0.1 * N_events)  # Oversample in batches for efficiency\n",
    "\n",
    "    while len(accepted) < N_events and total_attempts < max_attempts:\n",
    "        # Sample uniformly in 2D space\n",
    "        x1_samples = torch.empty(batch_size, device=device).uniform_(x1_min, x1_max)\n",
    "        x2_samples = torch.empty(batch_size, device=device).uniform_(x2_min, x2_max)\n",
    "        y_samples = torch.empty(batch_size, device=device).uniform_(0, f_max)\n",
    "\n",
    "        with torch.no_grad():\n",
    "            f_values = f(x1_samples, x2_samples, f_i_models, w_i_fitted)\n",
    "\n",
    "        mask = y_samples < f_values\n",
    "        hits = torch.stack([x1_samples[mask], x2_samples[mask]], dim=1)\n",
    "        print('hits', hits.shape)\n",
    "        accepted.append(hits)\n",
    "        total_attempts += batch_size\n",
    "        print('len(accepted)', len(accepted))\n",
    "\n",
    "    if accepted:\n",
    "        samples = torch.cat(accepted, dim=0)[:N_events]\n",
    "\n",
    "    else:\n",
    "        raise RuntimeError(\"No events accepted; check if your function f is correctly normalized and non-zero.\")\n",
    "    print('sampl size', samples.shape)\n",
    "    return samples\n",
    "\n",
    "# Sample new events from the ensemble distribution\n",
    "#tb = config[\"tail_bound\"]\n",
    "tb = 2.8\n",
    "\n",
    "samples = hit_or_miss_2d(-tb, tb, -tb, tb, f_i_models, w_i_fitted, N_events=200000) \n",
    "np.save(os.path.join(out_dir, \"v2_ensemble_generated_samples_4_16_128_15.npy\"), samples.cpu().numpy())\n",
    "print(\"Saved generated samples.\")"
   ]
  },
  {
   "cell_type": "code",
   "execution_count": 12,
   "metadata": {},
   "outputs": [
    {
     "name": "stderr",
     "output_type": "stream",
     "text": [
      "/tmp/ipykernel_48038/1326766788.py:55: UserWarning: No artists with labels found to put in legend.  Note that artists whose label start with an underscore are ignored when legend() is called with no argument.\n",
      "  axes[i].legend()\n"
     ]
    },
    {
     "data": {
      "image/png": "[encoded data removed]",
      "text/plain": [
       "<Figure size 1200x400 with 2 Axes>"
      ]
     },
     "metadata": {},
     "output_type": "display_data"
    }
   ],
   "source": [
    "# Compute and plot 1D marginal histograms\n",
    "\n",
    "# Load samples\n",
    "generated = samples.numpy()  # shape (N, 2)\n",
    "x1_samples, x2_samples = generated[:, 0], generated[:, 1]\n",
    "\n",
    "# Prepare bins\n",
    "bins = np.linspace(-5, 5, 80)\n",
    "bin_centers = 0.5 * (bins[:-1] + bins[1:])\n",
    "bin_width = bins[1] - bins[0]\n",
    "\n",
    "# Compute ensemble density at bin centers\n",
    "x1_centers = torch.tensor(bin_centers, dtype=torch.float32, device=device)\n",
    "x2_centers = torch.tensor(bin_centers, dtype=torch.float32, device=device)\n",
    "\n",
    "with torch.no_grad():\n",
    "    # Create 2D grid of (x1, x2) points\n",
    "    X1, X2 = torch.meshgrid(x1_centers, x2_centers, indexing='ij')  # shape (B, B)\n",
    "    x1_grid = X1.flatten()\n",
    "    x2_grid = X2.flatten()\n",
    "\n",
    "    # Evaluate the function on the 2D grid\n",
    "    f_vals = f(x1_grid, x2_grid, f_i_models, w_i_fitted).reshape(len(bin_centers), len(bin_centers))\n",
    "\n",
    "    # Feature 1 marginal: integrate over x2\n",
    "    f_x1 = f_vals.sum(dim=1).cpu().numpy() * bin_width\n",
    "\n",
    "    # Feature 2 marginal: integrate over x1\n",
    "    f_x2 = f_vals.sum(dim=0).cpu().numpy() * bin_width\n",
    "\n",
    "# Plotting\n",
    "fig, axes = plt.subplots(1, 2, figsize=(12, 4))\n",
    "\n",
    "for i, (feature, f_true, label) in enumerate(zip(\n",
    "    [x1_samples, x2_samples],\n",
    "    [f_x1, f_x2],\n",
    "    [\"Feature 1\", \"Feature 2\"]\n",
    ")):\n",
    "    counts, _, _ = axes[i].hist(\n",
    "        feature,\n",
    "        bins=bins,\n",
    "        density=True,\n",
    "        alpha=0.6,\n",
    "        color=\"royalblue\",\n",
    "        edgecolor=\"black\"\n",
    "    )\n",
    "    axes[i].errorbar(\n",
    "        bin_centers,\n",
    "        f_true,\n",
    "        yerr=0,\n",
    "        fmt='-', color=\"crimson\", lw=2\n",
    "    )\n",
    "    axes[i].set_xlabel(label)\n",
    "    axes[i].set_ylabel(\"Density\")\n",
    "    axes[i].legend()\n",
    "\n",
    "plt.tight_layout()\n",
    "plt.show()\n",
    "\n"
   ]
  },
  {
   "cell_type": "code",
   "execution_count": 7,
   "metadata": {},
   "outputs": [
    {
     "data": {
      "text/plain": [
       "(6283, 2)"
      ]
     },
     "execution_count": 7,
     "metadata": {},
     "output_type": "execute_result"
    }
   ],
   "source": []
  },
  {
   "cell_type": "code",
   "execution_count": 20,
   "metadata": {},
   "outputs": [
    {
     "data": {
      "text/plain": [
       "(200, 2)"
      ]
     },
     "execution_count": 20,
     "metadata": {},
     "output_type": "execute_result"
    }
   ],
   "source": [
    "np.load(\"./saved_generated_ensemble_data/ensemble_generated_samples_4_16_128_15_1.npy\").shape"
   ]
  },
  {
   "cell_type": "code",
   "execution_count": null,
   "metadata": {},
   "outputs": [],
   "source": []
  }
 ],
 "metadata": {
  "kernelspec": {
   "display_name": "nf_env",
   "language": "python",
   "name": "python3"
  },
  "language_info": {
   "codemirror_mode": {
    "name": "ipython",
    "version": 3
   },
   "file_extension": ".py",
   "mimetype": "text/x-python",
   "name": "python",
   "nbconvert_exporter": "python",
   "pygments_lexer": "ipython3",
   "version": "3.10.17"
  },
  "orig_nbformat": 4
 },
 "nbformat": 4,
 "nbformat_minor": 2
}
