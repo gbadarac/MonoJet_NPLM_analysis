{
 "cells": [
  {
   "cell_type": "code",
   "execution_count": 1,
   "id": "492287fa",
   "metadata": {},
   "outputs": [
    {
     "name": "stdout",
     "output_type": "stream",
     "text": [
      "Written to: /work/gbadarac/MonoJet_NPLM/MonoJet_NPLM_analysis/Uncertainty_Modeling/wifi/Fit_Weights/results_fit_weights_NF/N_100000_seeds_60_4_16_512_15/fit_weights.out\n"
     ]
    }
   ],
   "source": [
    "import numpy as np\n",
    "import torch\n",
    "import os\n",
    "\n",
    "# === INPUT ===\n",
    "trial_dir = \"/work/gbadarac/MonoJet_NPLM/MonoJet_NPLM_analysis/Uncertainty_Modeling/wifi/Fit_Weights/results_fit_weights_NF/N_100000_seeds_60_4_16_512_15\"\n",
    "weights_path = os.path.join(trial_dir, \"w_i_fitted.npy\")\n",
    "output_path = os.path.join(trial_dir, \"fit_weights.out\")\n",
    "\n",
    "# === Load and convert to tensor ===\n",
    "w_np = np.load(weights_path)\n",
    "w_tensor = torch.tensor(w_np, dtype=torch.float64)\n",
    "\n",
    "# === Format output ===\n",
    "with open(output_path, \"w\") as f:\n",
    "    f.write(\"Final weights: \")\n",
    "    f.write(repr(w_tensor))\n",
    "    f.write(\"\\n\")\n",
    "    f.write(f\"Sum of weights: {w_tensor.sum().item()}\\n\")\n",
    "\n",
    "print(\"Written to:\", output_path)\n"
   ]
  },
  {
   "cell_type": "code",
   "execution_count": null,
   "id": "54df7268",
   "metadata": {},
   "outputs": [],
   "source": []
  }
 ],
 "metadata": {
  "kernelspec": {
   "display_name": "nf_env",
   "language": "python",
   "name": "python3"
  },
  "language_info": {
   "codemirror_mode": {
    "name": "ipython",
    "version": 3
   },
   "file_extension": ".py",
   "mimetype": "text/x-python",
   "name": "python",
   "nbconvert_exporter": "python",
   "pygments_lexer": "ipython3",
   "version": "3.10.17"
  }
 },
 "nbformat": 4,
 "nbformat_minor": 5
}
