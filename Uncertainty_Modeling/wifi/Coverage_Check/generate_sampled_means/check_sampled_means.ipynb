{
 "cells": [
  {
   "cell_type": "code",
   "execution_count": 1,
   "id": "9db76dd2",
   "metadata": {},
   "outputs": [
    {
     "name": "stdout",
     "output_type": "stream",
     "text": [
      "Shape: (60, 4)\n",
      "Means (per feature): [-0.50200117  0.5990404   0.20167272 -0.8988702 ]\n",
      "Stds (per feature): [0.00615243 0.00929171 0.00692767 0.01319106]\n",
      "Min (per feature): [-0.5173365   0.5819036   0.18762337 -0.9264589 ]\n",
      "Max (per feature): [-0.4875703   0.6185923   0.21917583 -0.86962754]\n",
      "Contains NaNs: False\n",
      "Contains infs: False\n"
     ]
    }
   ],
   "source": [
    "# check_sampled_means.ipynb\n",
    "\n",
    "import numpy as np\n",
    "import matplotlib.pyplot as plt\n",
    "\n",
    "# Load file\n",
    "file_path = \"/work/gbadarac/MonoJet_NPLM/MonoJet_NPLM_analysis/Uncertainty_Modeling/wifi/Coverage_Check/generate_sampled_means/results_generated_sampled_means/generated_sampled_means_N_100000_dim_4_seeds_60_4_16_128_15.npy\"\n",
    "means = np.load(file_path)\n",
    "\n",
    "# Inspect shape and basic stats\n",
    "print(\"Shape:\", means.shape)  # (n_models, n_features)\n",
    "print(\"Means (per feature):\", means.mean(axis=0))\n",
    "print(\"Stds (per feature):\", means.std(axis=0))\n",
    "print(\"Min (per feature):\", means.min(axis=0))\n",
    "print(\"Max (per feature):\", means.max(axis=0))\n",
    "\n",
    "# Check for any invalid values\n",
    "print(\"Contains NaNs:\", np.isnan(means).any())\n",
    "print(\"Contains infs:\", np.isinf(means).any())\n",
    "\n"
   ]
  },
  {
   "cell_type": "code",
   "execution_count": 1,
   "id": "5864bde8",
   "metadata": {},
   "outputs": [
    {
     "name": "stdout",
     "output_type": "stream",
     "text": [
      "Shape: (60, 2)\n",
      "Means (per feature): [-0.49899504  0.59896785]\n",
      "Stds (per feature): [0.00601623 0.00799409]\n",
      "Min (per feature): [-0.51280713  0.58228076]\n",
      "Max (per feature): [-0.48684597  0.6261941 ]\n",
      "Contains NaNs: False\n",
      "Contains infs: False\n"
     ]
    }
   ],
   "source": [
    "import numpy as np\n",
    "import matplotlib.pyplot as plt\n",
    "\n",
    "# Load file\n",
    "file_path = \"/work/gbadarac/MonoJet_NPLM/MonoJet_NPLM_analysis/Uncertainty_Modeling/wifi/Coverage_Check/generate_sampled_means/results_generated_sampled_means/generated_sampled_means_N_100000_dim_2_seeds_60_4_16_128_15.npy\"\n",
    "means = np.load(file_path)\n",
    "\n",
    "# Inspect shape and basic stats\n",
    "print(\"Shape:\", means.shape)  # (n_models, n_features)\n",
    "print(\"Means (per feature):\", means.mean(axis=0))\n",
    "print(\"Stds (per feature):\", means.std(axis=0))\n",
    "print(\"Min (per feature):\", means.min(axis=0))\n",
    "print(\"Max (per feature):\", means.max(axis=0))\n",
    "\n",
    "# Check for any invalid values\n",
    "print(\"Contains NaNs:\", np.isnan(means).any())\n",
    "print(\"Contains infs:\", np.isinf(means).any())\n",
    "\n"
   ]
  },
  {
   "cell_type": "code",
   "execution_count": null,
   "id": "264c4a9d",
   "metadata": {},
   "outputs": [],
   "source": []
  }
 ],
 "metadata": {
  "kernelspec": {
   "display_name": "nf_env",
   "language": "python",
   "name": "python3"
  },
  "language_info": {
   "codemirror_mode": {
    "name": "ipython",
    "version": 3
   },
   "file_extension": ".py",
   "mimetype": "text/x-python",
   "name": "python",
   "nbconvert_exporter": "python",
   "pygments_lexer": "ipython3",
   "version": "3.10.17"
  }
 },
 "nbformat": 4,
 "nbformat_minor": 5
}
