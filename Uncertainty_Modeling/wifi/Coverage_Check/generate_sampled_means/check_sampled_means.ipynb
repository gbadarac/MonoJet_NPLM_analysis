{
 "cells": [
  {
   "cell_type": "code",
   "execution_count": null,
   "id": "9db76dd2",
   "metadata": {},
   "outputs": [
    {
     "name": "stdout",
     "output_type": "stream",
     "text": [
      "Shape: (60, 2)\n",
      "Means (per feature): [-0.49899504  0.59896785]\n",
      "Stds (per feature): [0.00601623 0.00799409]\n",
      "Min (per feature): [-0.51280713  0.58228076]\n",
      "Max (per feature): [-0.48684597  0.6261941 ]\n",
      "Contains NaNs: False\n",
      "Contains infs: False\n"
     ]
    }
   ],
   "source": [
    "# check_sampled_means.ipynb\n",
    "\n",
    "import numpy as np\n",
    "import matplotlib.pyplot as plt\n",
    "\n",
    "# Load file\n",
    "file_path = \"/work/gbadarac/MonoJet_NPLM/MonoJet_NPLM_analysis/Uncertainty_Modeling/wifi/Coverage_Check/generate_sampled_means/results_generated_sampled_means/generated_sampled_means_N_100000_seeds_60_4_16_128_15.npy\"\n",
    "means = np.load(file_path)\n",
    "\n",
    "# Inspect shape and basic stats\n",
    "print(\"Shape:\", means.shape)  # (n_models, n_features)\n",
    "print(\"Means (per feature):\", means.mean(axis=0))\n",
    "print(\"Stds (per feature):\", means.std(axis=0))\n",
    "print(\"Min (per feature):\", means.min(axis=0))\n",
    "print(\"Max (per feature):\", means.max(axis=0))\n",
    "\n",
    "# Check for any invalid values\n",
    "print(\"Contains NaNs:\", np.isnan(means).any())\n",
    "print(\"Contains infs:\", np.isinf(means).any())\n",
    "\n"
   ]
  },
  {
   "cell_type": "code",
   "execution_count": null,
   "id": "c0fb206c",
   "metadata": {},
   "outputs": [
    {
     "name": "stdout",
     "output_type": "stream",
     "text": [
      "Shape: (60, 2)\n",
      "Means (per feature): [-0.49986655  0.597595  ]\n",
      "Stds (per feature): [0.00564421 0.00943253]\n",
      "Min (per feature): [-0.51164246  0.5796788 ]\n",
      "Max (per feature): [-0.4840792  0.6240598]\n",
      "Contains NaNs: False\n",
      "Contains infs: False\n"
     ]
    }
   ],
   "source": [
    "# check_sampled_means.ipynb\n",
    "\n",
    "import numpy as np\n",
    "import matplotlib.pyplot as plt\n",
    "\n",
    "# Load file\n",
    "file_path = \"/work/gbadarac/MonoJet_NPLM/MonoJet_NPLM_analysis/Uncertainty_Modeling/wifi/Coverage_Check/generate_sampled_means/results_generated_sampled_means/generated_sampled_means_N_100000_seeds_60_bootstraps_1_4_16_128_15.npy\"\n",
    "means = np.load(file_path)\n",
    "\n",
    "# Inspect shape and basic stats\n",
    "print(\"Shape:\", means.shape)  # (n_models, n_features)\n",
    "print(\"Means (per feature):\", means.mean(axis=0))\n",
    "print(\"Stds (per feature):\", means.std(axis=0))\n",
    "print(\"Min (per feature):\", means.min(axis=0))\n",
    "print(\"Max (per feature):\", means.max(axis=0))\n",
    "\n",
    "# Check for any invalid values\n",
    "print(\"Contains NaNs:\", np.isnan(means).any())\n",
    "print(\"Contains infs:\", np.isinf(means).any())\n"
   ]
  },
  {
   "cell_type": "code",
   "execution_count": null,
   "id": "5864bde8",
   "metadata": {},
   "outputs": [],
   "source": []
  }
 ],
 "metadata": {
  "kernelspec": {
   "display_name": "nf_env",
   "language": "python",
   "name": "python3"
  },
  "language_info": {
   "codemirror_mode": {
    "name": "ipython",
    "version": 3
   },
   "file_extension": ".py",
   "mimetype": "text/x-python",
   "name": "python",
   "nbconvert_exporter": "python",
   "pygments_lexer": "ipython3",
   "version": "3.10.17"
  }
 },
 "nbformat": 4,
 "nbformat_minor": 5
}
