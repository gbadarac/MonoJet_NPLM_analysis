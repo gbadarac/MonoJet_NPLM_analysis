{
 "cells": [
  {
   "cell_type": "code",
   "execution_count": 4,
   "metadata": {},
   "outputs": [
    {
     "name": "stdout",
     "output_type": "stream",
     "text": [
      "within_bands.shape (100, 4)\n",
      "variace [[-0.50137584  0.59950715  0.20115944 -0.89921009]]\n",
      "mu_model [[0.00039363 0.00062074 0.0004832  0.00078472]]\n",
      "Total toys: 100\n",
      "Feature 0: Coverage = 0.000\n",
      "Feature 1: Coverage = 0.650\n",
      "Feature 2: Coverage = 0.080\n",
      "Feature 3: Coverage = 0.500\n"
     ]
    }
   ],
   "source": [
    "import os\n",
    "import json\n",
    "import numpy as np\n",
    "import matplotlib.pyplot as plt\n",
    "\n",
    "# -----------------------------\n",
    "# Set directory containing toy results\n",
    "# -----------------------------\n",
    "TRIAL_NAME = \"N_100000_dim_4_seeds_60_4_16_128_15_N_sampled_200000_trial\"\n",
    "COVERAGE_DIR = f\"/work/gbadarac/MonoJet_NPLM/MonoJet_NPLM_analysis/Uncertainty_Modeling/wifi/Coverage_Check/coverage_outputs/{TRIAL_NAME}\"\n",
    "\n",
    "# -----------------------------\n",
    "# Collect coverage info\n",
    "# -----------------------------\n",
    "within_bands = []\n",
    "mu_model=[]\n",
    "\n",
    "for fname in os.listdir(COVERAGE_DIR):\n",
    "    if fname.endswith(\".json\") and fname.startswith(\"toy_\"):\n",
    "        with open(os.path.join(COVERAGE_DIR, fname)) as f:\n",
    "                data = json.load(f)\n",
    "                within_bands.append(data[\"within_band\"][0])  # boolean list per toy\n",
    "                mu_model.append(data[\"mu_model\"])  \n",
    "\n",
    "within_bands = np.array(within_bands)  # shape: (N_toys, D_features)\n",
    "print('within_bands.shape',within_bands.shape)\n",
    "mu_model = np.array(mu_model)  # shape: (N_toys, D_features)\n",
    "\n",
    "# -----------------------------\n",
    "# Compute coverage per feature\n",
    "# -----------------------------\n",
    "variance = mu_model.mean(axis=0)\n",
    "print('variace', variance)\n",
    "\n",
    "mu_model.std(axis=0)\n",
    "print('mu_model', mu_model.std(axis=0))\n",
    "\n",
    "# -----------------------------\n",
    "# Print \n",
    "# -----------------------------\n",
    "coverage_per_feature = within_bands.mean(axis=0)\n",
    "n_toys = within_bands.shape[0]\n",
    "print(f\"Total toys: {n_toys}\")\n",
    "for i, cov in enumerate(coverage_per_feature):\n",
    "    print(f\"Feature {i}: Coverage = {float(cov):.3f}\")"
   ]
  },
  {
   "cell_type": "code",
   "execution_count": null,
   "metadata": {},
   "outputs": [],
   "source": []
  }
 ],
 "metadata": {
  "kernelspec": {
   "display_name": "nf_env",
   "language": "python",
   "name": "python3"
  },
  "language_info": {
   "codemirror_mode": {
    "name": "ipython",
    "version": 3
   },
   "file_extension": ".py",
   "mimetype": "text/x-python",
   "name": "python",
   "nbconvert_exporter": "python",
   "pygments_lexer": "ipython3",
   "version": "3.10.17"
  },
  "orig_nbformat": 4
 },
 "nbformat": 4,
 "nbformat_minor": 2
}
