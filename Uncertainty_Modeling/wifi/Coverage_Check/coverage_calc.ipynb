{
 "cells": [
  {
   "cell_type": "code",
   "execution_count": 2,
   "metadata": {},
   "outputs": [
    {
     "name": "stdout",
     "output_type": "stream",
     "text": [
      "within_bands.shape (284, 2)\n",
      "variace [[-0.49974904  0.5998625 ]]\n",
      "mu_model [[0.0005023  0.00077349]]\n",
      "Total toys: 284\n",
      "Feature 0: Coverage = 0.613\n",
      "Feature 1: Coverage = 0.687\n"
     ]
    }
   ],
   "source": [
    "import os\n",
    "import json\n",
    "import numpy as np\n",
    "import matplotlib.pyplot as plt\n",
    "\n",
    "# -----------------------------\n",
    "# Set directory containing toy results\n",
    "# -----------------------------\n",
    "TRIAL_NAME = \"N_100000_seeds_60_4_16_256_15_N_sampled_200000_l_1e5\"\n",
    "COVERAGE_DIR = f\"/work/gbadarac/MonoJet_NPLM/MonoJet_NPLM_analysis/Uncertainty_Modeling/wifi/Coverage_Check/coverage_outputs/{TRIAL_NAME}\"\n",
    "\n",
    "# -----------------------------\n",
    "# Collect coverage info\n",
    "# -----------------------------\n",
    "within_bands = []\n",
    "mu_model=[]\n",
    "\n",
    "for fname in os.listdir(COVERAGE_DIR):\n",
    "    if fname.endswith(\".json\") and fname.startswith(\"toy_\"):\n",
    "        with open(os.path.join(COVERAGE_DIR, fname)) as f:\n",
    "                data = json.load(f)\n",
    "                within_bands.append(data[\"within_band\"][0])  # boolean list per toy\n",
    "                mu_model.append(data[\"mu_model\"])  \n",
    "\n",
    "within_bands = np.array(within_bands)  # shape: (N_toys, D_features)\n",
    "print('within_bands.shape',within_bands.shape)\n",
    "mu_model = np.array(mu_model)  # shape: (N_toys, D_features)\n",
    "\n",
    "# -----------------------------\n",
    "# Compute coverage per feature\n",
    "# -----------------------------\n",
    "variance = mu_model.mean(axis=0)\n",
    "print('variace', variance)\n",
    "\n",
    "mu_model.std(axis=0)\n",
    "print('mu_model', mu_model.std(axis=0))\n",
    "\n",
    "# -----------------------------\n",
    "# Print \n",
    "# -----------------------------\n",
    "coverage_per_feature = within_bands.mean(axis=0)\n",
    "n_toys = within_bands.shape[0]\n",
    "print(f\"Total toys: {n_toys}\")\n",
    "for i, cov in enumerate(coverage_per_feature):\n",
    "    print(f\"Feature {i}: Coverage = {float(cov):.3f}\")"
   ]
  },
  {
   "cell_type": "code",
   "execution_count": null,
   "metadata": {},
   "outputs": [],
   "source": []
  }
 ],
 "metadata": {
  "kernelspec": {
   "display_name": "nf_env",
   "language": "python",
   "name": "python3"
  },
  "language_info": {
   "codemirror_mode": {
    "name": "ipython",
    "version": 3
   },
   "file_extension": ".py",
   "mimetype": "text/x-python",
   "name": "python",
   "nbconvert_exporter": "python",
   "pygments_lexer": "ipython3",
   "version": "3.10.17"
  },
  "orig_nbformat": 4
 },
 "nbformat": 4,
 "nbformat_minor": 2
}
