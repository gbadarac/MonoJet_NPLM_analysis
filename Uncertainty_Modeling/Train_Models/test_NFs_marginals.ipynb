{
 "cells": [
  {
   "cell_type": "code",
   "execution_count": null,
   "id": "1e6a6bd0",
   "metadata": {},
   "outputs": [
    {
     "ename": "AttributeError",
     "evalue": "module 'zuko' has no attribute 'flows'",
     "output_type": "error",
     "traceback": [
      "\u001b[0;31m---------------------------------------------------------------------------\u001b[0m",
      "\u001b[0;31mAttributeError\u001b[0m                            Traceback (most recent call last)",
      "Cell \u001b[0;32mIn[4], line 45\u001b[0m\n\u001b[1;32m     43\u001b[0m \u001b[38;5;28;01mfor\u001b[39;00m state_dict \u001b[38;5;129;01min\u001b[39;00m f_i_statedicts:\n\u001b[1;32m     44\u001b[0m     \u001b[38;5;28;01mif\u001b[39;00m use_zuko:\n\u001b[0;32m---> 45\u001b[0m         flow \u001b[38;5;241m=\u001b[39m \u001b[43mmake_flow_zuko\u001b[49m\u001b[43m(\u001b[49m\n\u001b[1;32m     46\u001b[0m \u001b[43m            \u001b[49m\u001b[43mnum_layers\u001b[49m\u001b[38;5;241;43m=\u001b[39;49m\u001b[43mconfig\u001b[49m\u001b[43m[\u001b[49m\u001b[38;5;124;43m\"\u001b[39;49m\u001b[38;5;124;43mnum_layers\u001b[39;49m\u001b[38;5;124;43m\"\u001b[39;49m\u001b[43m]\u001b[49m\u001b[43m,\u001b[49m\n\u001b[1;32m     47\u001b[0m \u001b[43m            \u001b[49m\u001b[43mhidden_features\u001b[49m\u001b[38;5;241;43m=\u001b[39;49m\u001b[43mconfig\u001b[49m\u001b[43m[\u001b[49m\u001b[38;5;124;43m\"\u001b[39;49m\u001b[38;5;124;43mhidden_features\u001b[39;49m\u001b[38;5;124;43m\"\u001b[39;49m\u001b[43m]\u001b[49m\u001b[43m,\u001b[49m\n\u001b[1;32m     48\u001b[0m \u001b[43m            \u001b[49m\u001b[43mnum_bins\u001b[49m\u001b[38;5;241;43m=\u001b[39;49m\u001b[43mconfig\u001b[49m\u001b[43m[\u001b[49m\u001b[38;5;124;43m\"\u001b[39;49m\u001b[38;5;124;43mnum_bins\u001b[39;49m\u001b[38;5;124;43m\"\u001b[39;49m\u001b[43m]\u001b[49m\u001b[43m,\u001b[49m\n\u001b[1;32m     49\u001b[0m \u001b[43m            \u001b[49m\u001b[43mnum_blocks\u001b[49m\u001b[38;5;241;43m=\u001b[39;49m\u001b[43mconfig\u001b[49m\u001b[43m[\u001b[49m\u001b[38;5;124;43m\"\u001b[39;49m\u001b[38;5;124;43mnum_blocks\u001b[39;49m\u001b[38;5;124;43m\"\u001b[39;49m\u001b[43m]\u001b[49m\u001b[43m,\u001b[49m\n\u001b[1;32m     50\u001b[0m \u001b[43m            \u001b[49m\u001b[43mnum_features\u001b[49m\u001b[38;5;241;43m=\u001b[39;49m\u001b[38;5;241;43m2\u001b[39;49m\u001b[43m,\u001b[49m\n\u001b[1;32m     51\u001b[0m \u001b[43m            \u001b[49m\u001b[43mnum_context\u001b[49m\u001b[38;5;241;43m=\u001b[39;49m\u001b[38;5;241;43m0\u001b[39;49m\u001b[43m,\u001b[49m\n\u001b[1;32m     52\u001b[0m \u001b[43m            \u001b[49m\u001b[43mbayesian\u001b[49m\u001b[38;5;241;43m=\u001b[39;49m\u001b[43mconfig\u001b[49m\u001b[43m[\u001b[49m\u001b[38;5;124;43m\"\u001b[39;49m\u001b[38;5;124;43mbayesian\u001b[39;49m\u001b[38;5;124;43m\"\u001b[39;49m\u001b[43m]\u001b[49m\n\u001b[1;32m     53\u001b[0m \u001b[43m        \u001b[49m\u001b[43m)\u001b[49m\u001b[38;5;241m.\u001b[39mto(device)\n\u001b[1;32m     54\u001b[0m     \u001b[38;5;28;01melse\u001b[39;00m:\n\u001b[1;32m     55\u001b[0m         flow \u001b[38;5;241m=\u001b[39m make_flow(\n\u001b[1;32m     56\u001b[0m             num_layers\u001b[38;5;241m=\u001b[39mconfig[\u001b[38;5;124m\"\u001b[39m\u001b[38;5;124mnum_layers\u001b[39m\u001b[38;5;124m\"\u001b[39m],\n\u001b[1;32m     57\u001b[0m             hidden_features\u001b[38;5;241m=\u001b[39mconfig[\u001b[38;5;124m\"\u001b[39m\u001b[38;5;124mhidden_features\u001b[39m\u001b[38;5;124m\"\u001b[39m],\n\u001b[1;32m     58\u001b[0m             num_bins\u001b[38;5;241m=\u001b[39mconfig[\u001b[38;5;124m\"\u001b[39m\u001b[38;5;124mnum_bins\u001b[39m\u001b[38;5;124m\"\u001b[39m],\n\u001b[1;32m     59\u001b[0m             num_blocks\u001b[38;5;241m=\u001b[39mconfig[\u001b[38;5;124m\"\u001b[39m\u001b[38;5;124mnum_blocks\u001b[39m\u001b[38;5;124m\"\u001b[39m]\n\u001b[1;32m     60\u001b[0m         )\u001b[38;5;241m.\u001b[39mto(device)\n",
      "File \u001b[0;32m/work/gbadarac/MonoJet_NPLM/MonoJet_NPLM_analysis/Uncertainty_Modeling/utils.py:48\u001b[0m, in \u001b[0;36mmake_flow_zuko\u001b[0;34m(num_layers, hidden_features, num_bins, num_blocks, num_features, num_context, bayesian)\u001b[0m\n\u001b[1;32m     46\u001b[0m \u001b[38;5;28;01mdef\u001b[39;00m\u001b[38;5;250m \u001b[39m\u001b[38;5;21mmake_flow_zuko\u001b[39m(num_layers, hidden_features, num_bins, num_blocks, \n\u001b[1;32m     47\u001b[0m                    num_features\u001b[38;5;241m=\u001b[39m\u001b[38;5;241m2\u001b[39m, num_context\u001b[38;5;241m=\u001b[39m\u001b[38;5;241m0\u001b[39m, bayesian\u001b[38;5;241m=\u001b[39m\u001b[38;5;28;01mFalse\u001b[39;00m):\n\u001b[0;32m---> 48\u001b[0m     flow \u001b[38;5;241m=\u001b[39m \u001b[43mzuko\u001b[49m\u001b[38;5;241;43m.\u001b[39;49m\u001b[43mflows\u001b[49m\u001b[38;5;241m.\u001b[39mNSF(\n\u001b[1;32m     49\u001b[0m         features\u001b[38;5;241m=\u001b[39mnum_features,\n\u001b[1;32m     50\u001b[0m         context\u001b[38;5;241m=\u001b[39mnum_context,\n\u001b[1;32m     51\u001b[0m         transforms\u001b[38;5;241m=\u001b[39mnum_layers,\n\u001b[1;32m     52\u001b[0m         hidden_features\u001b[38;5;241m=\u001b[39m[hidden_features] \u001b[38;5;241m*\u001b[39m num_blocks,\n\u001b[1;32m     53\u001b[0m         bins\u001b[38;5;241m=\u001b[39mnum_bins,\n\u001b[1;32m     54\u001b[0m         bayesian\u001b[38;5;241m=\u001b[39mbayesian\n\u001b[1;32m     55\u001b[0m     )\n\u001b[1;32m     56\u001b[0m     \u001b[38;5;28;01mreturn\u001b[39;00m flow\n",
      "\u001b[0;31mAttributeError\u001b[0m: module 'zuko' has no attribute 'flows'"
     ]
    }
   ],
   "source": [
    "import sys \n",
    "sys.path.insert(0, \"/work/gbadarac/MonoJet_NPLM/MonoJet_NPLM_analysis/Uncertainty_Modeling\")\n",
    "\n",
    "\n",
    "import os\n",
    "import json\n",
    "import torch\n",
    "import torch.optim as optim\n",
    "import numpy as np\n",
    "import argparse\n",
    "import matplotlib\n",
    "import matplotlib.pyplot as plt\n",
    "\n",
    "import importlib\n",
    "import utils\n",
    "importlib.reload(utils)\n",
    "\n",
    "from utils import make_flow, make_flow_zuko, plot_individual_marginals\n",
    "\n",
    "\n",
    "trial_dir ='/work/gbadarac/MonoJet_NPLM/MonoJet_NPLM_analysis/Uncertainty_Modeling/Train_Models/zuko/EstimationNFzuko_outputs/N_10000_seeds_60_4_16_128_15'\n",
    "f_i_file = os.path.join(trial_dir, \"f_i.pth\")\n",
    "\n",
    "device = torch.device(\"cuda\" if torch.cuda.is_available() else \"cpu\") #sets device to GPU if available \n",
    "f_i_statedicts = torch.load(f_i_file, map_location=device) #list of state_dicts \n",
    "\n",
    "\n",
    "with open(os.path.join(trial_dir, \"architecture_config.json\")) as f:\n",
    "    config = json.load(f) \n",
    "\n",
    "\n",
    "data_path='/work/gbadarac/MonoJet_NPLM/MonoJet_NPLM_analysis/Uncertainty_Modeling/Generate_Data/saved_generated_target_data/10k_target_training_set.npy'\n",
    "x_data = torch.from_numpy(np.load(data_path)).float().to(device)\n",
    "\n",
    "# ------------------\n",
    "# Reconstruct flows f_i\n",
    "# ------------------\n",
    "f_i_models = []\n",
    "for state_dict in f_i_statedicts:\n",
    "#for state_dict, config in zip(f_i_statedicts, configs):\n",
    "    flow = make_flow(\n",
    "        num_layers=config[\"num_layers\"],\n",
    "        hidden_features=config[\"hidden_features\"],\n",
    "        num_bins=config[\"num_bins\"],\n",
    "        num_blocks=config[\"num_blocks\"],\n",
    "    ).to(device) #recreate the flow architecture for each model f_i \n",
    "    flow.load_state_dict(state_dict) #load the corresponding params into each model \n",
    "    flow.eval() # Set to eval mode to avoid training-time behavior (e.g., dropout)\n",
    "    #You want all models to produce consistent, deterministic outputs for likelihood evaluation \n",
    "    f_i_models.append(flow)\n",
    "\n",
    "\n",
    "out_path='/work/gbadarac/MonoJet_NPLM/MonoJet_NPLM_analysis/Uncertainty_Modeling/Train_Models/zuko/EstimationNFzuko_outputs/N_10000_seeds_60_4_16_128_15'\n",
    "out_dir = os.path.join(out_path, \"marginals\")\n",
    "os.makedirs(out_dir, exist_ok=True)\n",
    "\n",
    "feature_names = [\"Feature 1\", \"Feature 2\"]\n",
    "num_samples=1000\n",
    "plot_individual_marginals(f_i_models[:10], x_data, feature_names, out_dir, num_samples)"
   ]
  },
  {
   "cell_type": "code",
   "execution_count": null,
   "id": "3c5a4771",
   "metadata": {},
   "outputs": [],
   "source": []
  }
 ],
 "metadata": {
  "kernelspec": {
   "display_name": "nf_env",
   "language": "python",
   "name": "python3"
  },
  "language_info": {
   "codemirror_mode": {
    "name": "ipython",
    "version": 3
   },
   "file_extension": ".py",
   "mimetype": "text/x-python",
   "name": "python",
   "nbconvert_exporter": "python",
   "pygments_lexer": "ipython3",
   "version": "3.10.17"
  }
 },
 "nbformat": 4,
 "nbformat_minor": 5
}
