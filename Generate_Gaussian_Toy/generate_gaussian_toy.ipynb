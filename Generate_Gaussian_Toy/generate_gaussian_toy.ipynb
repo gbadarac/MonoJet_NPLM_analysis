{
 "cells": [
  {
   "cell_type": "code",
   "execution_count": 2,
   "id": "e8575abb",
   "metadata": {},
   "outputs": [],
   "source": [
    "import numpy as np\n",
    "import torch\n",
    "import os\n",
    "from sklearn.neighbors import KernelDensity\n",
    "from tqdm import tqdm\n",
    "\n",
    "# -----------------------\n",
    "# Config\n",
    "# -----------------------\n",
    "output_dir = \"/Users/jafu/Documents/VSCode_Projects/MastersThesis/MonoJet_NPLM_analysis/Generate_Gaussian_Toy/saved_generated_gaussian_toys\"\n",
    "os.makedirs(output_dir, exist_ok=True)\n",
    "\n",
    "# Target distribution params (known 2D Gaussian)\n",
    "mean = np.array([-0.5, 0.6])\n",
    "cov = np.diag([0.25**2, 0.4**2])  # diagonal covariance\n",
    "inv_cov = np.linalg.inv(cov)\n",
    "det_cov = np.linalg.det(cov)\n",
    "\n",
    "# Reproducibility\n",
    "np.random.seed(1234)\n",
    "\n",
    "# -----------------------\n",
    "# Generate target data\n",
    "# -----------------------\n",
    "n_points = 100000\n",
    "x_eval = np.random.multivariate_normal(mean, cov, size=n_points).astype(np.float32)\n",
    "\n",
    "# Compute analytical PDF at x_eval\n",
    "delta = x_eval - mean\n",
    "exponent = -0.5 * np.sum(delta @ inv_cov * delta, axis=1)\n",
    "norm_const = 1. / (2 * np.pi * np.sqrt(det_cov))\n",
    "target_probs = norm_const * np.exp(exponent)  # shape: (100000,)\n",
    "\n"
   ]
  },
  {
   "cell_type": "code",
   "execution_count": 3,
   "id": "2799e3c7",
   "metadata": {},
   "outputs": [
    {
     "name": "stderr",
     "output_type": "stream",
     "text": [
      "Generating models with structured bumps: 100%|██████████| 10/10 [00:00<00:00, 118.93it/s]\n"
     ]
    }
   ],
   "source": [
    "# -----------------------\n",
    "# Generate toy models with structured bumps\n",
    "# -----------------------\n",
    "\n",
    "n_models = 10\n",
    "model_probs = []\n",
    "centers = []\n",
    "amplitudes = []\n",
    "widths = []\n",
    "\n",
    "for i in tqdm(range(n_models), desc=\"Generating models with structured bumps\"):\n",
    "    # 1. Random center\n",
    "    center = x_eval[np.random.choice(len(x_eval))]\n",
    "\n",
    "    # 2. Random amplitude\n",
    "    amplitude = np.random.uniform(0.05, 0.2)\n",
    "\n",
    "    # 3. Random bump width (isotropic Gaussian)\n",
    "    width = np.random.uniform(0.03, 0.1)\n",
    "    cov = np.diag([width**2, width**2])\n",
    "    inv_cov = np.linalg.inv(cov)\n",
    "\n",
    "    # Compute bump\n",
    "    delta = x_eval - center\n",
    "    exponent = -0.5 * np.sum(delta @ inv_cov * delta, axis=1)\n",
    "    bump = np.exp(exponent)\n",
    "    bump /= bump.sum()  # normalize to unit integral\n",
    "\n",
    "    # Add to base target\n",
    "    perturbed = target_probs + amplitude * bump\n",
    "\n",
    "    # Normalize to make total = 100k\n",
    "    perturbed /= np.sum(perturbed)\n",
    "    perturbed *= len(x_eval)\n",
    "\n",
    "    model_probs.append(torch.tensor(perturbed, dtype=torch.float32))\n"
   ]
  },
  {
   "cell_type": "code",
   "execution_count": 6,
   "id": "837df7ea",
   "metadata": {},
   "outputs": [
    {
     "name": "stdout",
     "output_type": "stream",
     "text": [
      "Marginals plotted and saved.\n"
     ]
    }
   ],
   "source": [
    "# -----------------------\n",
    "# Plot marginals\n",
    "# -----------------------\n",
    "import matplotlib.pyplot as plt\n",
    "model_probs_np = torch.stack(model_probs).numpy()  # shape: (10, 100000)\n",
    "feature_names = [\"Feature 1\", \"Feature 2\"]\n",
    "bins = 100\n",
    "\n",
    "# Loop over models\n",
    "for model_idx, probs in enumerate(model_probs_np):\n",
    "    fig, axes = plt.subplots(2, 1, figsize=(8, 6), sharex=False)\n",
    "\n",
    "    for i in range(2):  # Feature 0 and 1\n",
    "        feature = x_eval[:, i]\n",
    "        bin_edges = np.linspace(feature.min(), feature.max(), bins + 1)\n",
    "        bin_centers = 0.5 * (bin_edges[:-1] + bin_edges[1:])\n",
    "        bin_widths = np.diff(bin_edges)\n",
    "\n",
    "        hist = np.histogram(feature, bins=bin_edges, weights=probs)[0]\n",
    "        density = hist / bin_widths\n",
    "\n",
    "        ax = axes[i]\n",
    "        ax.plot(bin_centers, density, color=\"blue\")\n",
    "        ax.set_ylabel(\"Density\")\n",
    "        ax.set_title(f\"Model {model_idx} — Marginal: {feature_names[i]}\")\n",
    "\n",
    "    axes[1].set_xlabel(\"Feature value\")\n",
    "    plt.tight_layout()\n",
    "    fig.savefig(os.path.join(output_dir, f\"model_{model_idx}_marginals.png\"))\n",
    "    plt.close(fig)\n",
    "print(\"Marginals plotted and saved.\")"
   ]
  },
  {
   "cell_type": "code",
   "execution_count": null,
   "id": "6b83894a",
   "metadata": {},
   "outputs": [],
   "source": [
    "# -----------------------\n",
    "# Save outputs\n",
    "# -----------------------\n",
    "torch.save(model_probs, os.path.join(output_dir, \"f_i.pth\"))\n",
    "np.save(os.path.join(output_dir, \"100k_target_training_set.npy\"), x_eval)\n",
    "np.savez(os.path.join(output_dir, \"bump_metadata.npz\"),\n",
    "         centers=np.array(centers),\n",
    "         amplitudes=np.array(amplitudes),\n",
    "         widths=np.array(widths))\n",
    "\n",
    "print(f\"Saved {n_models} models with structured bumps to: {output_dir}\")"
   ]
  }
 ],
 "metadata": {
  "kernelspec": {
   "display_name": "myenv",
   "language": "python",
   "name": "python3"
  },
  "language_info": {
   "codemirror_mode": {
    "name": "ipython",
    "version": 3
   },
   "file_extension": ".py",
   "mimetype": "text/x-python",
   "name": "python",
   "nbconvert_exporter": "python",
   "pygments_lexer": "ipython3",
   "version": "3.12.2"
  }
 },
 "nbformat": 4,
 "nbformat_minor": 5
}
